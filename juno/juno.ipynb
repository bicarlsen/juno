{
 "cells": [
  {
   "cell_type": "markdown",
   "metadata": {},
   "source": [
    "# Juno\n",
    "A file watching daemon for Jupyter Notebooks."
   ]
  },
  {
   "cell_type": "code",
   "execution_count": 1,
   "metadata": {},
   "outputs": [],
   "source": [
    "import os\n",
    "import re\n",
    "import sys\n",
    "import argparse\n",
    "import logging\n",
    "import signal\n",
    "import asyncio\n",
    "import subprocess as sp"
   ]
  },
  {
   "cell_type": "code",
   "execution_count": null,
   "metadata": {},
   "outputs": [],
   "source": [
    "_root = None"
   ]
  },
  {
   "cell_type": "code",
   "execution_count": null,
   "metadata": {},
   "outputs": [],
   "source": [
    "def kill_process( process ):\n",
    "    process.send_signal( signal.SIGINT )\n",
    "    process.send_signal( signal.SIGINT )\n",
    "\n",
    "    # tasks = [ \n",
    "    #   task \n",
    "    #   for task in asyncio.all_tasks() \n",
    "    #   if task is not asyncio.current_task() \n",
    "    # ]\n",
    "\n",
    "    # for task in tasks:\n",
    "    #   task.cancel()\n",
    "\n",
    "    sys.exit( 0 )"
   ]
  },
  {
   "cell_type": "code",
   "execution_count": null,
   "metadata": {},
   "outputs": [],
   "source": [
    "def compile( file ):\n",
    "    sp.run( [ 'jupyter', 'nbconvert', '--to', 'script', file ] )\n",
    "    print( f'Compiled {file}' )"
   ]
  },
  {
   "cell_type": "code",
   "execution_count": null,
   "metadata": {},
   "outputs": [],
   "source": [
    "def listen( read, write, handler = None):\n",
    "    pattern = re.compile( 'Saving file at (.+\\.ipynb)' )\n",
    "    for line in read:\n",
    "        line = line.decode( 'utf-8' )\n",
    "        print( line, file = write, flush = True )\n",
    "        match = pattern.search( line )\n",
    "        if match is not None:\n",
    "            file = match.group( 1 )[ 1: ] # strip leading slash\n",
    "            compile( file )"
   ]
  },
  {
   "cell_type": "code",
   "execution_count": null,
   "metadata": {},
   "outputs": [],
   "source": [
    "def start_jupyter( path = '.' ):\n",
    "    process = sp.Popen( [ 'jupyter', 'notebook' ], stdin = sp.PIPE, stdout = sp.PIPE, stderr = sp.PIPE )\n",
    "    return process"
   ]
  },
  {
   "cell_type": "code",
   "execution_count": null,
   "metadata": {},
   "outputs": [],
   "source": [
    "def main( path = '.' ):\n",
    "    global _root\n",
    "    _root = path\n",
    "\n",
    "    process = start_jupyter( path )\n",
    "    signal.signal( signal.SIGINT, lambda sig, frame: kill_process( process ) )\n",
    "\n",
    "    stdout = process.stdout\n",
    "    stderr = process.stderr\n",
    "\n",
    "    listen( stderr, sys.stderr )"
   ]
  },
  {
   "cell_type": "code",
   "execution_count": null,
   "metadata": {},
   "outputs": [],
   "source": [
    "def parse_args():\n",
    "    parser = argparse.ArgumentParser(\n",
    "        description = 'A Jupyter Notbook watcher.'\n",
    "    )\n",
    "\n",
    "    parser.add_argument(\n",
    "        '-r', '--root',\n",
    "        help = 'Path to server root',\n",
    "        type = str,\n",
    "        default = '.'\n",
    "    )\n",
    "\n",
    "    args = parser.parse_args()\n",
    "    return args"
   ]
  },
  {
   "cell_type": "code",
   "execution_count": null,
   "metadata": {},
   "outputs": [],
   "source": [
    "if __name__ == '__main__':\n",
    "    args = parse_args()\n",
    "    root = args.root\n",
    "    path = (\n",
    "        root\n",
    "        if os.path.isabs( root ) else\n",
    "        os.path.normpath( os.path.join( os.getcwd(), root ) )\n",
    "    )\n",
    "    \n",
    "    main( path )"
   ]
  }
 ],
 "metadata": {
  "kernelspec": {
   "display_name": "Python 3",
   "language": "python",
   "name": "python3"
  },
  "language_info": {
   "codemirror_mode": {
    "name": "ipython",
    "version": 3
   },
   "file_extension": ".py",
   "mimetype": "text/x-python",
   "name": "python",
   "nbconvert_exporter": "python",
   "pygments_lexer": "ipython3",
   "version": "3.8.5"
  }
 },
 "nbformat": 4,
 "nbformat_minor": 4
}
